{
 "cells": [
  {
   "cell_type": "code",
   "execution_count": 1,
   "metadata": {},
   "outputs": [],
   "source": [
    "import glob\n",
    "import os\n",
    "import pandas as pd\n",
    "def read_data(dirname):\n",
    "    pat = \"{}/*/*.[tT][xX][tT]\".format(dirname)\n",
    "    fs = glob.glob(pat)\n",
    "    contents = []\n",
    "    answers = []\n",
    "    for fn in fs:\n",
    "        with open(fn, \"r\", encoding=\"utf-8\") as f:\n",
    "            news = f.read()\n",
    "        contents.append(news)\n",
    "        dn = os.path.split(fn)[0]\n",
    "        dn = os.path.split(dn)[-1]\n",
    "        answers.append(dn)\n",
    "    df = pd.DataFrame({\n",
    "        \"content\":contents,\n",
    "        \"ans\":answers\n",
    "    })\n",
    "    return df"
   ]
  },
  {
   "cell_type": "code",
   "execution_count": 2,
   "metadata": {},
   "outputs": [
    {
     "data": {
      "text/html": [
       "<div>\n",
       "<style scoped>\n",
       "    .dataframe tbody tr th:only-of-type {\n",
       "        vertical-align: middle;\n",
       "    }\n",
       "\n",
       "    .dataframe tbody tr th {\n",
       "        vertical-align: top;\n",
       "    }\n",
       "\n",
       "    .dataframe thead th {\n",
       "        text-align: right;\n",
       "    }\n",
       "</style>\n",
       "<table border=\"1\" class=\"dataframe\">\n",
       "  <thead>\n",
       "    <tr style=\"text-align: right;\">\n",
       "      <th></th>\n",
       "      <th>content</th>\n",
       "      <th>ans</th>\n",
       "    </tr>\n",
       "  </thead>\n",
       "  <tbody>\n",
       "    <tr>\n",
       "      <th>0</th>\n",
       "      <td>【 日  期 】19960104\\n【 版  號 】1\\n【 標  題 】合巢蕪高速公路巢蕪...</td>\n",
       "      <td>交通</td>\n",
       "    </tr>\n",
       "    <tr>\n",
       "      <th>1</th>\n",
       "      <td>【 日  期 】19960226\\n【 版  號 】5\\n【 標  題 】我首臺載人磁懸浮列...</td>\n",
       "      <td>交通</td>\n",
       "    </tr>\n",
       "    <tr>\n",
       "      <th>2</th>\n",
       "      <td>大秦鐵路萬噸列車試運成功\\n新華社北京５月２４日電（通訊員李忠民）大秦...</td>\n",
       "      <td>交通</td>\n",
       "    </tr>\n",
       "    <tr>\n",
       "      <th>3</th>\n",
       "      <td>遼寧省檯安縣村村都通柏油路鄉村公路建設全國數第\\n一\\n    (4)...</td>\n",
       "      <td>交通</td>\n",
       "    </tr>\n",
       "    <tr>\n",
       "      <th>4</th>\n",
       "      <td>北京—烏蘭巴托—莫斯料３／４次國際旅客列車通車\\n３０週年\\n    ...</td>\n",
       "      <td>交通</td>\n",
       "    </tr>\n",
       "    <tr>\n",
       "      <th>...</th>\n",
       "      <td>...</td>\n",
       "      <td>...</td>\n",
       "    </tr>\n",
       "    <tr>\n",
       "      <th>2632</th>\n",
       "      <td>馬玉芹破女子４００米跑全國青年紀錄\\n新華社鞍山５月１０日電（通訊員王...</td>\n",
       "      <td>體育</td>\n",
       "    </tr>\n",
       "    <tr>\n",
       "      <th>2633</th>\n",
       "      <td>國際奧委會中國臺北委員吳經國訪問北京\\n新華社北京５月１０日電記者《中...</td>\n",
       "      <td>體育</td>\n",
       "    </tr>\n",
       "    <tr>\n",
       "      <th>2634</th>\n",
       "      <td>亞奧理事會３９個成員組織全部以書面形式確認參加\\n第十一屆亞運會\\n ...</td>\n",
       "      <td>體育</td>\n",
       "    </tr>\n",
       "    <tr>\n",
       "      <th>2635</th>\n",
       "      <td>世界盃乒乓球團體賽男子團體採用新賽制\\n新華社北京５月１０日電（記者樑...</td>\n",
       "      <td>體育</td>\n",
       "    </tr>\n",
       "    <tr>\n",
       "      <th>2636</th>\n",
       "      <td>登頂隊員簡介\\n新華社珠穆朗瑪峰５月１０日電登頂隊員簡介\\n     ...</td>\n",
       "      <td>體育</td>\n",
       "    </tr>\n",
       "  </tbody>\n",
       "</table>\n",
       "<p>2637 rows × 2 columns</p>\n",
       "</div>"
      ],
      "text/plain": [
       "                                                content ans\n",
       "0     【 日  期 】19960104\\n【 版  號 】1\\n【 標  題 】合巢蕪高速公路巢蕪...  交通\n",
       "1     【 日  期 】19960226\\n【 版  號 】5\\n【 標  題 】我首臺載人磁懸浮列...  交通\n",
       "2                大秦鐵路萬噸列車試運成功\\n新華社北京５月２４日電（通訊員李忠民）大秦...  交通\n",
       "3                遼寧省檯安縣村村都通柏油路鄉村公路建設全國數第\\n一\\n    (4)...  交通\n",
       "4                北京—烏蘭巴托—莫斯料３／４次國際旅客列車通車\\n３０週年\\n    ...  交通\n",
       "...                                                 ...  ..\n",
       "2632             馬玉芹破女子４００米跑全國青年紀錄\\n新華社鞍山５月１０日電（通訊員王...  體育\n",
       "2633             國際奧委會中國臺北委員吳經國訪問北京\\n新華社北京５月１０日電記者《中...  體育\n",
       "2634             亞奧理事會３９個成員組織全部以書面形式確認參加\\n第十一屆亞運會\\n ...  體育\n",
       "2635             世界盃乒乓球團體賽男子團體採用新賽制\\n新華社北京５月１０日電（記者樑...  體育\n",
       "2636             登頂隊員簡介\\n新華社珠穆朗瑪峰５月１０日電登頂隊員簡介\\n     ...  體育\n",
       "\n",
       "[2637 rows x 2 columns]"
      ]
     },
     "execution_count": 2,
     "metadata": {},
     "output_type": "execute_result"
    }
   ],
   "source": [
    "train_df = read_data(\"chinese_news_trans\")\n",
    "train_df"
   ]
  },
  {
   "cell_type": "code",
   "execution_count": 3,
   "metadata": {},
   "outputs": [
    {
     "data": {
      "text/html": [
       "<div>\n",
       "<style scoped>\n",
       "    .dataframe tbody tr th:only-of-type {\n",
       "        vertical-align: middle;\n",
       "    }\n",
       "\n",
       "    .dataframe tbody tr th {\n",
       "        vertical-align: top;\n",
       "    }\n",
       "\n",
       "    .dataframe thead th {\n",
       "        text-align: right;\n",
       "    }\n",
       "</style>\n",
       "<table border=\"1\" class=\"dataframe\">\n",
       "  <thead>\n",
       "    <tr style=\"text-align: right;\">\n",
       "      <th></th>\n",
       "      <th>content</th>\n",
       "      <th>ans</th>\n",
       "    </tr>\n",
       "  </thead>\n",
       "  <tbody>\n",
       "    <tr>\n",
       "      <th>0</th>\n",
       "      <td>日月光華 -- Traffic_Info精華區文章閱讀\\n-----------------...</td>\n",
       "      <td>交通</td>\n",
       "    </tr>\n",
       "    <tr>\n",
       "      <th>1</th>\n",
       "      <td>日月光華 -- Traffic_Info精華區文章閱讀\\n-----------------...</td>\n",
       "      <td>交通</td>\n",
       "    </tr>\n",
       "    <tr>\n",
       "      <th>2</th>\n",
       "      <td>日月光華 -- Traffic_Info精華區文章閱讀\\n-----------------...</td>\n",
       "      <td>交通</td>\n",
       "    </tr>\n",
       "    <tr>\n",
       "      <th>3</th>\n",
       "      <td>三趟火車停開 乘客可全額退票 \\n瀏覽次數：1180 \\n    昨日，來自鐵路部門的消息說...</td>\n",
       "      <td>交通</td>\n",
       "    </tr>\n",
       "    <tr>\n",
       "      <th>4</th>\n",
       "      <td>日月光華 -- Traffic_Info精華區文章閱讀\\n-----------------...</td>\n",
       "      <td>交通</td>\n",
       "    </tr>\n",
       "    <tr>\n",
       "      <th>...</th>\n",
       "      <td>...</td>\n",
       "      <td>...</td>\n",
       "    </tr>\n",
       "    <tr>\n",
       "      <th>96</th>\n",
       "      <td>最優秀選手無緣亞運會健美賽\\n \\n　 \\n    健美在亞洲運動會上是“新生兒”——韓國釜...</td>\n",
       "      <td>體育</td>\n",
       "    </tr>\n",
       "    <tr>\n",
       "      <th>97</th>\n",
       "      <td>\\n各國記者眼中的羽毛球世錦賽\\n \\n\\n-----------------------...</td>\n",
       "      <td>體育</td>\n",
       "    </tr>\n",
       "    <tr>\n",
       "      <th>98</th>\n",
       "      <td>\\n友好運動會第五天 東道主選手大顯神威\\n2001年09月03日02:51:40 新華社 ...</td>\n",
       "      <td>體育</td>\n",
       "    </tr>\n",
       "    <tr>\n",
       "      <th>99</th>\n",
       "      <td>不靠技術比運氣\\n\\n　　第二屆奧運會在巴黎舉行，同時這裡也正在舉行國際博覽會，東道主把一些...</td>\n",
       "      <td>體育</td>\n",
       "    </tr>\n",
       "    <tr>\n",
       "      <th>100</th>\n",
       "      <td>帆 板 運 動 簡 介（二）\\n\\n　　我國在79年由國家體委青島航海運動學校成功試製出第一...</td>\n",
       "      <td>體育</td>\n",
       "    </tr>\n",
       "  </tbody>\n",
       "</table>\n",
       "<p>101 rows × 2 columns</p>\n",
       "</div>"
      ],
      "text/plain": [
       "                                               content ans\n",
       "0    日月光華 -- Traffic_Info精華區文章閱讀\\n-----------------...  交通\n",
       "1    日月光華 -- Traffic_Info精華區文章閱讀\\n-----------------...  交通\n",
       "2    日月光華 -- Traffic_Info精華區文章閱讀\\n-----------------...  交通\n",
       "3    三趟火車停開 乘客可全額退票 \\n瀏覽次數：1180 \\n    昨日，來自鐵路部門的消息說...  交通\n",
       "4    日月光華 -- Traffic_Info精華區文章閱讀\\n-----------------...  交通\n",
       "..                                                 ...  ..\n",
       "96   最優秀選手無緣亞運會健美賽\\n \\n　 \\n    健美在亞洲運動會上是“新生兒”——韓國釜...  體育\n",
       "97    \\n各國記者眼中的羽毛球世錦賽\\n \\n\\n-----------------------...  體育\n",
       "98   \\n友好運動會第五天 東道主選手大顯神威\\n2001年09月03日02:51:40 新華社 ...  體育\n",
       "99   不靠技術比運氣\\n\\n　　第二屆奧運會在巴黎舉行，同時這裡也正在舉行國際博覽會，東道主把一些...  體育\n",
       "100  帆 板 運 動 簡 介（二）\\n\\n　　我國在79年由國家體委青島航海運動學校成功試製出第一...  體育\n",
       "\n",
       "[101 rows x 2 columns]"
      ]
     },
     "execution_count": 3,
     "metadata": {},
     "output_type": "execute_result"
    }
   ],
   "source": [
    "test_df = read_data(\"chinese_news_test\")\n",
    "test_df"
   ]
  },
  {
   "cell_type": "code",
   "execution_count": 4,
   "metadata": {},
   "outputs": [],
   "source": [
    "#.unique() 對資料計數一次後, 即換另計數\n",
    "labels = train_df[\"ans\"].unique()\n",
    "label_to_idx = {l:i for i, l in enumerate(labels)}\n",
    "idx_to_label = {i:l for i, l in enumerate(labels)}"
   ]
  },
  {
   "cell_type": "code",
   "execution_count": 5,
   "metadata": {},
   "outputs": [
    {
     "data": {
      "text/plain": [
       "('dict.txt.big', <http.client.HTTPMessage at 0x29be298d848>)"
      ]
     },
     "execution_count": 5,
     "metadata": {},
     "output_type": "execute_result"
    }
   ],
   "source": [
    "from urllib.request import urlretrieve\n",
    "url = \"https://github.com/fxsjy/jieba/raw/master/extra_dict/dict.txt.big\"\n",
    "urlretrieve(url, \"dict.txt.big\")"
   ]
  },
  {
   "cell_type": "code",
   "execution_count": 6,
   "metadata": {},
   "outputs": [
    {
     "name": "stderr",
     "output_type": "stream",
     "text": [
      "Building prefix dict from C:\\Users\\trytr\\PycharmProjects\\ML Demo\\dict.txt.big ...\n",
      "Dumping model to file cache C:\\Users\\trytr\\AppData\\Local\\Temp\\jieba.uaaef5a8d26fe4e316d0f30f732a3985a.cache\n",
      "Loading model cost 1.150 seconds.\n",
      "Prefix dict has been built succesfully.\n"
     ]
    }
   ],
   "source": [
    "import jieba\n",
    "jieba.set_dictionary(\"dict.txt.big\")\n",
    "def newscut(n):\n",
    "    n = n.replace(\"\\r\", \"\").replace(\"\\n\", \"\")\n",
    "    return \" \".join(jieba.cut(n))\n",
    "x_train = train_df[\"content\"].apply(newscut)\n",
    "x_test = test_df[\"content\"].apply(newscut)\n",
    "y_train = train_df[\"ans\"].replace(label_to_idx)\n",
    "y_test = test_df[\"ans\"].replace(label_to_idx)"
   ]
  },
  {
   "cell_type": "code",
   "execution_count": 7,
   "metadata": {},
   "outputs": [],
   "source": [
    "from sklearn.feature_extraction.text import CountVectorizer\n",
    "vec = CountVectorizer()\n",
    "x_train_vec = vec.fit_transform(x_train)\n",
    "x_test_vec = vec.transform(x_test)"
   ]
  },
  {
   "cell_type": "code",
   "execution_count": 8,
   "metadata": {},
   "outputs": [
    {
     "data": {
      "text/plain": [
       "MultinomialNB(alpha=1.0, class_prior=None, fit_prior=True)"
      ]
     },
     "execution_count": 8,
     "metadata": {},
     "output_type": "execute_result"
    }
   ],
   "source": [
    "from sklearn.naive_bayes import MultinomialNB\n",
    "clf = MultinomialNB()\n",
    "clf.fit(x_train_vec, y_train)"
   ]
  },
  {
   "cell_type": "code",
   "execution_count": 9,
   "metadata": {},
   "outputs": [
    {
     "data": {
      "text/plain": [
       "1.0"
      ]
     },
     "execution_count": 9,
     "metadata": {},
     "output_type": "execute_result"
    }
   ],
   "source": [
    "from sklearn.metrics import accuracy_score\n",
    "pre = clf.predict(x_test_vec)\n",
    "accuracy_score(pre, y_test)"
   ]
  },
  {
   "cell_type": "code",
   "execution_count": null,
   "metadata": {},
   "outputs": [],
   "source": [
    "n = input(\"輸入新聞:\")\n",
    "n = newscut(n)\n",
    "n = vec.transform([n])\n",
    "proba = clf.predict_proba(n)[0]\n",
    "print(\"*\" * 30)\n",
    "plist = sorted(zip(labels, proba), key=lambda x:x[1], reverse=True)\n",
    "for l, p in plist:\n",
    "    print(l, \"類別的機率:\", round(p * 100, 2), \"%\")"
   ]
  },
  {
   "cell_type": "code",
   "execution_count": null,
   "metadata": {},
   "outputs": [],
   "source": [
    "sorted([(\"a\", 0.5), (\"b\", 0.2), (\"c\", 0.3)], \n",
    "       reverse=True,\n",
    "       key=lambda x:x[1])"
   ]
  }
 ],
 "metadata": {
  "kernelspec": {
   "display_name": "Python 3",
   "language": "python",
   "name": "python3"
  },
  "language_info": {
   "codemirror_mode": {
    "name": "ipython",
    "version": 3
   },
   "file_extension": ".py",
   "mimetype": "text/x-python",
   "name": "python",
   "nbconvert_exporter": "python",
   "pygments_lexer": "ipython3",
   "version": "3.7.5"
  }
 },
 "nbformat": 4,
 "nbformat_minor": 1
}
